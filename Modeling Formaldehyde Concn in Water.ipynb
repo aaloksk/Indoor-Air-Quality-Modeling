{
 "cells": [
  {
   "cell_type": "markdown",
   "id": "f73a4c7f",
   "metadata": {},
   "source": [
    "<div align=\"center\" style=\"color:black; font-size:16px;\">\n",
    "  <b>CVEN 5325: Fundamentals of Air Pollution</b>\n",
    "</div>\n",
    "<br>\n",
    "<div align=\"center\" style=\"color:darkblue; font-size:24px;\">\n",
    "  <b>Modeling Formaldehyde Concentration in Water</b><br>\n",
    "  <span style=\"font-size:18px;\">Temperature-Dependent Emission and Absorption in a Commercial Establishment</span>\n",
    "</div>\n"
   ]
  },
  {
   "cell_type": "markdown",
   "id": "3a81dfde",
   "metadata": {},
   "source": [
    "<h3><center><font color = 'teal'> Aalok Sharma Kafle, MS, EIT </font></center></h3>"
   ]
  },
  {
   "cell_type": "markdown",
   "id": "fa67706a",
   "metadata": {},
   "source": [
    "### Problem Statement\n",
    "A carpeted area of $80 \\, \\text{m}^2$ in a commercial establishment emits formaldehyde ($ \\text{HCHO} $) at a rate of $0.05 \\, \\text{mg/m}^2\\cdot\\text{h}$ at $22^\\circ \\text{C}$. The emission rate changes with temperature as follows:\n",
    "- **Increase by 2%** per degree above $22^\\circ \\text{C}$.\n",
    "- **Decrease by 1%** per degree below $22^\\circ \\text{C}$.\n",
    "\n",
    "The establishment is $10 \\, \\text{m} \\times 10 \\, \\text{m} \\times 3 \\, \\text{m}$ in volume, with the following temperatures over 24 hours:\n",
    "- **Morning (6 hours):** $10^\\circ \\text{C}$\n",
    "- **Afternoon (6 hours):** $25^\\circ \\text{C}$\n",
    "- **Evening (6 hours):** $22^\\circ \\text{C}$\n",
    "- **Night (6 hours):** $15^\\circ \\text{C}$\n",
    "\n",
    "Compute the concentration of formaldehyde ($ \\text{HCHO} $) in a glass of water left in the room. The calculations consider the following:\n",
    "- **Henry's Law Constant ($ H $):**\n",
    "  - $ H = 5020 \\, \\text{M/atm} $ at $293 \\, \\text{K}$,\n",
    "  - Temperature dependence given by:\n",
    "    $$\n",
    "    \\ln H = \\frac{6423 \\pm 542}{T} - (13.4 \\pm 2.0),\n",
    "    $$\n",
    "    where $ T $ is in Kelvin.\n"
   ]
  },
  {
   "cell_type": "markdown",
   "id": "cd2c902a",
   "metadata": {},
   "source": [
    "### Step 1: Constants and Parameters\n",
    "Define the constants and parameters used for emission rates, room dimensions, and Henry's Law calculations.\n"
   ]
  },
  {
   "cell_type": "code",
   "execution_count": 2,
   "id": "5c22fdd1",
   "metadata": {},
   "outputs": [],
   "source": [
    "import numpy as np\n",
    "\n",
    "# Room dimensions and properties\n",
    "room_area = 10 * 10  # m²\n",
    "room_volume = 10 * 10 * 3  # m³\n",
    "carpet_area = 80  # m²\n",
    "\n",
    "# Emission rate and temperature adjustment factors\n",
    "base_emission_rate = 0.05  # mg/m²·h at 22°C\n",
    "temp_change_above = 0.02  # +2% per degree above 22°C\n",
    "temp_change_below = -0.01  # -1% per degree below 22°C\n",
    "\n",
    "# Henry's Law constant parameters\n",
    "H_ref = 5020  # M/atm at 293 K\n",
    "A = 6423  # Arrhenius numerator\n",
    "B = -13.4  # Arrhenius offset\n",
    "T_ref = 293  # Reference temperature (K)\n",
    "\n",
    "# Time periods and temperatures (in hours and °C)\n",
    "time_periods = [6, 6, 6, 6]  # hours for Morning, Afternoon, Evening, Night\n",
    "temperatures = [10, 25, 22, 15]  # °C for Morning, Afternoon, Evening, Night"
   ]
  },
  {
   "cell_type": "markdown",
   "id": "1d83a923",
   "metadata": {},
   "source": [
    "### Step 2: Temperature-Adjusted Emission Rates\n",
    "Calculate the emission rate at each temperature using the formula:\n",
    "$$\n",
    "\\text{Emission Rate} = \\text{Base Rate} \\times \\left(1 + \\Delta T \\times \\text{Change Factor}\\right)\n",
    "$$\n",
    "where:\n",
    "- $\\Delta T = T - 22^\\circ \\text{C}$,\n",
    "- Change Factor is $+2\\%$ for $T > 22^\\circ \\text{C}$ and $-1\\%$ for $T < 22^\\circ \\text{C}$.\n"
   ]
  },
  {
   "cell_type": "code",
   "execution_count": 4,
   "id": "6bc2ce5e",
   "metadata": {},
   "outputs": [
    {
     "data": {
      "text/plain": [
       "[0.05600000000000001, 0.053000000000000005, 0.05, 0.053500000000000006]"
      ]
     },
     "execution_count": 4,
     "metadata": {},
     "output_type": "execute_result"
    }
   ],
   "source": [
    "# Calculate emission rates at different temperatures\n",
    "emission_rates = []\n",
    "for temp in temperatures:\n",
    "    delta_T = temp - 22\n",
    "    if delta_T > 0:\n",
    "        rate = base_emission_rate * (1 + delta_T * temp_change_above)\n",
    "    else:\n",
    "        rate = base_emission_rate * (1 + delta_T * temp_change_below)\n",
    "    emission_rates.append(rate)\n",
    "\n",
    "emission_rates  # Display the emission rates in mg/m²·h\n"
   ]
  },
  {
   "cell_type": "markdown",
   "id": "967c7a6d",
   "metadata": {},
   "source": [
    "### Step 3: Henry's Law Constant Adjustment\n",
    "Adjust Henry's Law constant for each temperature using the formula:\n",
    "$$\n",
    "\\ln H = \\frac{A}{T} + B\n",
    "$$\n",
    "where $ T $ is in Kelvin.\n"
   ]
  },
  {
   "cell_type": "code",
   "execution_count": 5,
   "id": "d87ad7ff",
   "metadata": {},
   "outputs": [
    {
     "data": {
      "text/plain": [
       "[10765.3691952874, 3438.6958322540495, 4280.46113994428, 7262.45867974884]"
      ]
     },
     "execution_count": 5,
     "metadata": {},
     "output_type": "execute_result"
    }
   ],
   "source": [
    "# Convert temperatures to Kelvin\n",
    "temperatures_K = [temp + 273.15 for temp in temperatures]\n",
    "\n",
    "# Calculate Henry's Law constant (H) for each temperature\n",
    "henrys_law_constants = []\n",
    "for T in temperatures_K:\n",
    "    ln_H = (A / T) + B\n",
    "    H = np.exp(ln_H)\n",
    "    henrys_law_constants.append(H)\n",
    "\n",
    "henrys_law_constants  # Display Henry's Law constants in M/atm\n"
   ]
  },
  {
   "cell_type": "markdown",
   "id": "d3b7fd03",
   "metadata": {},
   "source": [
    "### Step 4: Compute Concentration of HCHO in Water\n",
    "The formaldehyde concentration in water is given by: <br>\n",
    "$$\n",
    "C_{\\text{water}} = \\frac{C_{\\text{air}}}{H}\n",
    "$$ <br>\n",
    "where $ C_{\\text{air}} $ is the air concentration of formaldehyde, calculated from: <br>\n",
    "$$\n",
    "C_{\\text{air}} = \\frac{\\text{Emission Rate} \\times \\text{Carpet Area}}{\\text{Room Volume}}\n",
    "$$\n",
    "<br>\n",
    "$$\n",
    "H \\text{ is Henry's Law constant at the corresponding temperature.}\n",
    "$$\n"
   ]
  },
  {
   "cell_type": "code",
   "execution_count": 6,
   "id": "1ebfad1a",
   "metadata": {},
   "outputs": [
    {
     "data": {
      "text/plain": [
       "[1.3871640686387686e-06,\n",
       " 4.110085341299e-06,\n",
       " 3.1149291857621906e-06,\n",
       " 1.9644403219048754e-06]"
      ]
     },
     "execution_count": 6,
     "metadata": {},
     "output_type": "execute_result"
    }
   ],
   "source": [
    "# Calculate air concentration (mg/m³) and water concentration (mg/L)\n",
    "water_concentrations = []\n",
    "for rate, H, T in zip(emission_rates, henrys_law_constants, temperatures_K):\n",
    "    C_air = (rate * carpet_area) / room_volume  # mg/m³\n",
    "    C_water = C_air / H  # mg/L\n",
    "    water_concentrations.append(C_water)\n",
    "\n",
    "water_concentrations  # Display water concentrations in mg/L\n"
   ]
  },
  {
   "cell_type": "markdown",
   "id": "3e2fb19a",
   "metadata": {},
   "source": [
    "### Step 5: Visualization\n",
    "Plot the formaldehyde concentration in water across the four time periods.\n"
   ]
  },
  {
   "cell_type": "code",
   "execution_count": 7,
   "id": "cdf56132",
   "metadata": {},
   "outputs": [
    {
     "data": {
      "image/png": "[encoded data removed]",
      "text/plain": [
       "<Figure size 800x500 with 1 Axes>"
      ]
     },
     "metadata": {},
     "output_type": "display_data"
    }
   ],
   "source": [
    "import matplotlib.pyplot as plt\n",
    "\n",
    "# Plot results\n",
    "time_labels = [\"Morning (10°C)\", \"Afternoon (25°C)\", \"Evening (22°C)\", \"Night (15°C)\"]\n",
    "\n",
    "plt.figure(figsize=(8, 5))\n",
    "plt.bar(time_labels, water_concentrations, color='skyblue')\n",
    "plt.xlabel('Time Periods')\n",
    "plt.ylabel('HCHO Concentration in Water (mg/L)')\n",
    "plt.title('Formaldehyde Concentration in Water at Different Times of Day')\n",
    "plt.show()\n"
   ]
  },
  {
   "cell_type": "markdown",
   "id": "aa8d9579",
   "metadata": {},
   "source": [
    "### Conclusion and Discussion\n",
    "1. **Emission Rates:**\n",
    "   - The emission rate increases during the afternoon ($25^\\circ \\text{C}$) and decreases during the morning ($10^\\circ \\text{C}$) and night ($15^\\circ \\text{C}$), as expected from the temperature dependency. \n",
    "   \n",
    "<br>\n",
    "\n",
    "2. **Henry's Law Constant:**\n",
    "   - The constant decreases at higher temperatures, leading to a higher proportion of formaldehyde dissolving into water at lower temperatures.\n",
    "   \n",
    "<br>\n",
    "\n",
    "3. **HCHO Concentration in Water:**\n",
    "   - The highest concentration is observed during the morning ($10^\\circ \\text{C}$), where the low temperature leads to a higher Henry's Law constant and increased solubility.\n",
    "   - The lowest concentration occurs during the afternoon ($25^\\circ \\text{C}$), as the lower Henry's Law constant reduces solubility.\n",
    "   \n",
    "   <br>\n",
    "\n",
    "These findings demonstrate the critical impact of temperature on formaldehyde emission and its interaction with water.\n"
   ]
  }
 ],
 "metadata": {
  "kernelspec": {
   "display_name": "Python 3 (ipykernel)",
   "language": "python",
   "name": "python3"
  },
  "language_info": {
   "codemirror_mode": {
    "name": "ipython",
    "version": 3
   },
   "file_extension": ".py",
   "mimetype": "text/x-python",
   "name": "python",
   "nbconvert_exporter": "python",
   "pygments_lexer": "ipython3",
   "version": "3.11.5"
  }
 },
 "nbformat": 4,
 "nbformat_minor": 5
}
